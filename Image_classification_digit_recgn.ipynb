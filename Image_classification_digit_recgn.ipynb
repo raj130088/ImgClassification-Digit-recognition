{
  "nbformat": 4,
  "nbformat_minor": 0,
  "metadata": {
    "colab": {
      "provenance": []
    },
    "kernelspec": {
      "name": "python3",
      "display_name": "Python 3"
    },
    "language_info": {
      "name": "python"
    }
  },
  "cells": [
    {
      "cell_type": "code",
      "execution_count": null,
      "metadata": {
        "id": "vivbaQZl6dme"
      },
      "outputs": [],
      "source": [
        "import tensorflow as tf\n",
        "from sklearn.model_selection import train_test_split\n",
        "\n",
        "mnist = tf.keras.datasets.mnist\n",
        "\n",
        "(X_full_train, y_full_train), (X_test, y_test) = mnist.load_data()\n",
        "X_train, X_valid, y_train, y_valid = train_test_split(X_full_train, y_full_train, test_size=5000)"
      ]
    },
    {
      "cell_type": "code",
      "source": [
        "import numpy as np\n",
        "\n",
        "def check_features(X):\n",
        "    print(\"Shape:\", X.shape)\n",
        "    print(\"Data type:\", X.dtype)\n",
        "    print(\"Min value:\", np.min(X))\n",
        "    print(\"Max value:\", np.max(X))\n",
        "    print(\"Mean:\", np.mean(X))\n",
        "    print(\"Std deviation:\", np.std(X))\n",
        "\n",
        "    # Check if image-like data\n",
        "    if X.ndim == 4:\n",
        "        print(\"Looks like image data: (samples, height, width, channels)\")\n",
        "    elif X.ndim == 3:\n",
        "        print(\"Looks like grayscale images: (samples, height, width)\")\n",
        "    elif X.ndim == 2:\n",
        "        print(\"Looks like tabular data: (samples, features)\")\n",
        "    else:\n",
        "        print(\"Unexpected shape for X.\")\n",
        "\n",
        "check_features(X_train)"
      ],
      "metadata": {
        "colab": {
          "base_uri": "https://localhost:8080/"
        },
        "id": "d1rFomRg9X6l",
        "outputId": "307b7a0b-f457-4294-f7db-8c5293793f00"
      },
      "execution_count": null,
      "outputs": [
        {
          "output_type": "stream",
          "name": "stdout",
          "text": [
            "Shape: (55000, 28, 28)\n",
            "Data type: uint8\n",
            "Min value: 0\n",
            "Max value: 255\n",
            "Mean: 33.322900788497215\n",
            "Std deviation: 78.570861065643\n",
            "Looks like grayscale images: (samples, height, width)\n"
          ]
        }
      ]
    },
    {
      "cell_type": "code",
      "source": [
        "import numpy as np\n",
        "\n",
        "def check_labels(y):\n",
        "    if y.ndim == 1 or (y.ndim == 2 and y.shape[1] == 1):\n",
        "        print(\"Labels are sparse (integers).\")\n",
        "        print(\"Classes:\", np.unique(y))\n",
        "        print(\"Number of classes:\", len(np.unique(y)))\n",
        "    elif y.ndim == 2:\n",
        "        print(\"Labels are one-hot encoded.\")\n",
        "        print(\"Number of classes:\", y.shape[1])\n",
        "    else:\n",
        "        print(\"Unexpected label format.\")\n",
        "\n",
        "check_labels(y_train)"
      ],
      "metadata": {
        "colab": {
          "base_uri": "https://localhost:8080/"
        },
        "id": "z9RKVRM-9fLl",
        "outputId": "a1dac635-6144-442f-b7ac-174dabb3211a"
      },
      "execution_count": null,
      "outputs": [
        {
          "output_type": "stream",
          "name": "stdout",
          "text": [
            "Labels are sparse (integers).\n",
            "Classes: [0 1 2 3 4 5 6 7 8 9]\n",
            "Number of classes: 10\n"
          ]
        }
      ]
    },
    {
      "cell_type": "code",
      "source": [
        "import matplotlib.pyplot as plt\n",
        "\n",
        "# Let's look at a sample image\n",
        "plt.imshow(X_train[0], cmap=\"binary\")\n",
        "plt.axis('off')\n",
        "plt.show()"
      ],
      "metadata": {
        "colab": {
          "base_uri": "https://localhost:8080/",
          "height": 406
        },
        "id": "hgbW1Opt9rRW",
        "outputId": "582875c6-df5a-473a-d7e1-38d5320f7eac"
      },
      "execution_count": null,
      "outputs": [
        {
          "output_type": "display_data",
          "data": {
            "text/plain": [
              "<Figure size 640x480 with 1 Axes>"
            ],
            "image/png": "[encoded data removed]"
          },
          "metadata": {}
        }
      ]
    },
    {
      "cell_type": "code",
      "source": [
        "# Preprocessing data\n",
        "import tensorflow as tf\n",
        "\n",
        "BATCH_SIZE = 32\n",
        "IMG_HEIGHT, IMG_WIDTH, CHANNELS = 28, 28, 1\n",
        "NUM_CLASSES = 10 # 10 classes for MNIST\n",
        "\n",
        "# Create tf.data.Dataset from NumPy arrays\n",
        "train_ds = tf.data.Dataset.from_tensor_slices((X_train, y_train))\n",
        "val_ds   = tf.data.Dataset.from_tensor_slices((X_valid, y_valid))\n",
        "test_ds  = tf.data.Dataset.from_tensor_slices((X_test, y_test))\n",
        "\n",
        "# Helper function for preprocessing\n",
        "def format_image(image, label):\n",
        "    # Reshape, convert to float32, normalize\n",
        "    image = tf.reshape(image, [IMG_HEIGHT, IMG_WIDTH, CHANNELS])\n",
        "    image = tf.cast(image, tf.float32) / 255.0\n",
        "    # One-hot encode the labels\n",
        "    label = tf.one_hot(label, NUM_CLASSES)\n",
        "    return image, label\n",
        "\n",
        "\n",
        "train_ds = (train_ds.map(format_image).shuffle(1000).batch(BATCH_SIZE).prefetch(tf.data.AUTOTUNE))\n",
        "val_ds = (val_ds.map(format_image).batch(BATCH_SIZE).prefetch(tf.data.AUTOTUNE))\n",
        "test_ds = (test_ds.map(format_image).batch(BATCH_SIZE).prefetch(tf.data.AUTOTUNE))"
      ],
      "metadata": {
        "id": "7yQ0FPFwGSwK"
      },
      "execution_count": null,
      "outputs": []
    },
    {
      "cell_type": "code",
      "source": [
        "from tensorflow.keras import layers, models\n",
        "\n",
        "model = models.Sequential([\n",
        "    layers.Input(shape=(IMG_HEIGHT, IMG_WIDTH, CHANNELS)),\n",
        "    layers.Conv2D(32, (3,3), activation='relu'),\n",
        "    layers.MaxPooling2D(2,2),\n",
        "\n",
        "    layers.Conv2D(64, (3,3), activation='relu'),\n",
        "    layers.MaxPooling2D(2,2),\n",
        "\n",
        "    layers.Conv2D(128, (3,3), activation='relu'),\n",
        "    layers.MaxPooling2D(2,2),\n",
        "\n",
        "    layers.Flatten(),\n",
        "    layers.Dense(128, activation='relu'),\n",
        "    layers.Dense(10, activation='softmax')\n",
        "])"
      ],
      "metadata": {
        "id": "NLm3HJpH-Kds"
      },
      "execution_count": null,
      "outputs": []
    },
    {
      "cell_type": "code",
      "source": [
        "model.compile(optimizer='adam',\n",
        "              loss='categorical_crossentropy',\n",
        "              metrics=['accuracy'])\n",
        "\n",
        "history = model.fit(train_ds,\n",
        "                    validation_data=val_ds,\n",
        "                    epochs=5)"
      ],
      "metadata": {
        "colab": {
          "base_uri": "https://localhost:8080/"
        },
        "id": "iFpcqQVY_Svn",
        "outputId": "17257087-be4f-49a5-8a02-aa3d97d92388"
      },
      "execution_count": null,
      "outputs": [
        {
          "output_type": "stream",
          "name": "stdout",
          "text": [
            "Epoch 1/5\n",
            "\u001b[1m1719/1719\u001b[0m \u001b[32m━━━━━━━━━━━━━━━━━━━━\u001b[0m\u001b[37m\u001b[0m \u001b[1m54s\u001b[0m 30ms/step - accuracy: 0.8674 - loss: 0.4176 - val_accuracy: 0.9724 - val_loss: 0.0866\n",
            "Epoch 2/5\n",
            "\u001b[1m1719/1719\u001b[0m \u001b[32m━━━━━━━━━━━━━━━━━━━━\u001b[0m\u001b[37m\u001b[0m \u001b[1m52s\u001b[0m 30ms/step - accuracy: 0.9757 - loss: 0.0767 - val_accuracy: 0.9792 - val_loss: 0.0652\n",
            "Epoch 3/5\n",
            "\u001b[1m1719/1719\u001b[0m \u001b[32m━━━━━━━━━━━━━━━━━━━━\u001b[0m\u001b[37m\u001b[0m \u001b[1m82s\u001b[0m 30ms/step - accuracy: 0.9844 - loss: 0.0518 - val_accuracy: 0.9856 - val_loss: 0.0497\n",
            "Epoch 4/5\n",
            "\u001b[1m1719/1719\u001b[0m \u001b[32m━━━━━━━━━━━━━━━━━━━━\u001b[0m\u001b[37m\u001b[0m \u001b[1m81s\u001b[0m 30ms/step - accuracy: 0.9869 - loss: 0.0415 - val_accuracy: 0.9870 - val_loss: 0.0468\n",
            "Epoch 5/5\n",
            "\u001b[1m1719/1719\u001b[0m \u001b[32m━━━━━━━━━━━━━━━━━━━━\u001b[0m\u001b[37m\u001b[0m \u001b[1m82s\u001b[0m 30ms/step - accuracy: 0.9906 - loss: 0.0301 - val_accuracy: 0.9850 - val_loss: 0.0558\n"
          ]
        }
      ]
    },
    {
      "cell_type": "code",
      "source": [
        "# EVALUATE AND VISUALIZE PERFORMANCE\n",
        "\n",
        "# Plotting the learning curves\n",
        "import pandas as pd\n",
        "import matplotlib.pyplot as plt\n",
        "pd.DataFrame(history.history).plot(figsize=(8, 5))\n",
        "plt.grid(True)\n",
        "plt.gca().set_ylim(0, 1) # Set the vertical range to [0-1]\n",
        "plt.title(\"Model Training History\")\n",
        "plt.xlabel(\"Epochs\")\n",
        "plt.ylabel(\"Loss / Accuracy\")\n",
        "plt.legend(loc='best')\n",
        "plt.show()"
      ],
      "metadata": {
        "colab": {
          "base_uri": "https://localhost:8080/",
          "height": 487
        },
        "id": "IIAO_ulWHX5A",
        "outputId": "42644db4-b57f-45ef-b2bc-f10824d9f4cc"
      },
      "execution_count": null,
      "outputs": [
        {
          "output_type": "display_data",
          "data": {
            "text/plain": [
              "<Figure size 800x500 with 1 Axes>"
            ],
            "image/png": "[encoded data removed]"
          },
          "metadata": {}
        }
      ]
    },
    {
      "cell_type": "code",
      "source": [
        "import matplotlib.pyplot as plt\n",
        "import numpy as np\n",
        "import tensorflow as tf\n",
        "\n",
        "# Class names for MNIST digits\n",
        "class_names = [str(i) for i in range(10)]\n",
        "\n",
        "# Pick a batch from validation set\n",
        "for images, labels in val_ds.take(1):  # just one batch\n",
        "    # Pick 5 random samples from the batch\n",
        "    idx = np.random.choice(range(images.shape[0]), size=5, replace=False)\n",
        "    sample_images = tf.gather(images, idx)\n",
        "    sample_labels = tf.gather(labels, idx)\n",
        "\n",
        "    # Make predictions\n",
        "    preds = model.predict(sample_images)\n",
        "    preds = np.argmax(preds, axis=1)   # get the predicted digit (0–9)\n",
        "    true_labels = np.argmax(sample_labels.numpy(), axis=1)  # if labels are one-hot encoded\n",
        "\n",
        "    # Plot results\n",
        "    plt.figure(figsize=(12, 6))\n",
        "    for i in range(5):\n",
        "        plt.subplot(1, 5, i+1)\n",
        "        plt.imshow(sample_images[i].numpy().squeeze(), cmap=\"gray\")  # remove channel dim for plotting\n",
        "        plt.axis(\"off\")\n",
        "        plt.title(f\"True: {class_names[true_labels[i]]}\\nPred: {class_names[preds[i]]}\")\n",
        "    plt.show()\n"
      ],
      "metadata": {
        "id": "-s4QgbZWIhmw",
        "outputId": "8a59ce97-7d6c-42ae-b134-9c8db9d08d2e",
        "colab": {
          "base_uri": "https://localhost:8080/",
          "height": 261
        }
      },
      "execution_count": null,
      "outputs": [
        {
          "output_type": "stream",
          "name": "stdout",
          "text": [
            "\u001b[1m1/1\u001b[0m \u001b[32m━━━━━━━━━━━━━━━━━━━━\u001b[0m\u001b[37m\u001b[0m \u001b[1m0s\u001b[0m 97ms/step\n"
          ]
        },
        {
          "output_type": "display_data",
          "data": {
            "text/plain": [
              "<Figure size 1200x600 with 5 Axes>"
            ],
            "image/png": "[encoded data removed]"
          },
          "metadata": {}
        }
      ]
    }
  ]
}